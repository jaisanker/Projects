{
 "cells": [
  {
   "cell_type": "markdown",
   "metadata": {},
   "source": [
    "***\n",
    "\n",
    "<b> <center>\n",
    "    Machine Learning <br>\n",
    "    A2: Classification-Based Analysis\n",
    "</b>\n",
    "    \n",
    "   <center> Jaisanker Venugopalan Nair </center>\n",
    "  <center>  FMSBA3 (Castro)</center>\n",
    "    <center>DAT5303 - Machine Learning</center>\n",
    "<center>Professor Chase Kusterer</center>\n",
    "<center>Hult International Business School</center>\n",
    "\n",
    " \n",
    "    \n",
    "***"
   ]
  },
  {
   "cell_type": "markdown",
   "metadata": {},
   "source": [
    "<u>Course Case: Apprentice Chef : </u>\n",
    "\n",
    "<br>\n",
    "Apprentice Chef, Inc. is an innovative company with a unique spin on cooking at home. Developed for the busy professional that has little to no skills in the kitchen, they offer a wide selection of daily-prepared gourmet meals delivered directly to your door. Each meal set takes at most 30 minutes to finish cooking at home and also comes with Apprentice Chef's award-winning disposable cookware (i.e. pots, pans, baking trays, and utensils), allowing for fast and easy cleanup. Ordering meals is very easy given their user-friendly online platform and mobile app(Taken from the case study of Machine Learning Assignment-1).</br>\n",
    "<br>\n",
    "\n",
    "<u>Case Challenge Part 2 (Individual Assignment 2) : </u>\n",
    "In an effort to diversify their revenue stream, Apprentice Chef, Inc. has launched Halfway There,\n",
    "a cross-selling promotion where subscribers receive a half bottle of wine from a local California\n",
    "vineyard every Wednesday (halfway through the work week). The executives at Apprentice Chef\n",
    "also believe this endeavor will create a competitive advantage based on its unique product\n",
    "offering of hard to find local wines.\n",
    "Halfway There has been exclusively offered to all of the customers in the dataset you received,\n",
    "and the executives would like to promote this service to a wider audience. They have tasked\n",
    "you with analyzing their data, developing your top insights, and building a machine learning\n",
    "model to predict which customers will subscribe to this service.\n",
    "</br>"
   ]
  },
  {
   "cell_type": "markdown",
   "metadata": {},
   "source": [
    "<u>Objective:</u>\n",
    "<br>1. Analyze the data provided </br>\n",
    "<br>2. Build a machine learning model to predict which customers will subscribe to \"Halfway There\" service </br>\n",
    "<br>3. Develop insights</br>"
   ]
  },
  {
   "cell_type": "markdown",
   "metadata": {},
   "source": [
    "<h3>. Analyze the data provided</h3>\n",
    "<br>Steps involved to do the Data analysis will be as below :</br>\n",
    "<br>(i) import and prepare data for analysis</br>\n",
    "<br>(ii) set thresholds for outliers</br>\n",
    "<br>(iii) create flag columns for outliers</br>\n",
    "<br>(iv) set thresholds for trends</br>\n",
    "<br>(v) create flag columns for trends</br>\n",
    "<br>(vi) feature engineering by creating new columns</br>\n",
    "<br>(vii) analyze the findings</br>"
   ]
  },
  {
   "cell_type": "code",
   "execution_count": 1,
   "metadata": {},
   "outputs": [],
   "source": [
    "#importing required packages\n",
    "\n",
    "import sklearn.linear_model                                      # linear regression model\n",
    "import pandas                  as pd                             # data science essentials\n",
    "import matplotlib.pyplot       as plt                            # essential graphical output\n",
    "import seaborn                 as sns                            # enhanced graphical output\n",
    "import numpy                   as np                             # fundamental package in python\n",
    "import statsmodels.formula.api as smf                            # regression modeling\n",
    "import random                  as rand                           # random numbers\n",
    "\n",
    "from   sklearn.metrics         import roc_auc_score              # roc_auc_score\n",
    "from   sklearn.metrics         import confusion_matrix           # confusion_matrix\n",
    "from   sklearn.model_selection import train_test_split           # train/test split\n",
    "from   sklearn.linear_model    import LogisticRegression         # Logistic Regression\n",
    "from   sklearn.metrics         import mean_squared_error         # mean sqaure error\n",
    "from   sklearn.utils           import shuffle                    # shuffle\n",
    "from   sklearn                 import ensemble, datasets         # ensembles and datasets\n",
    "from   sklearn.metrics         import make_scorer                # customizable scorer\n",
    "\n",
    "\n",
    "# setting pandas print options\n",
    "pd.set_option('display.max_rows',    500)\n",
    "pd.set_option('display.max_columns', 500)\n",
    "pd.set_option('display.width',      1000)\n",
    "\n",
    "# read the file\n",
    "file        = 'Apprentice_Chef_Dataset.xlsx'\n",
    "original_df = pd.read_excel(file)"
   ]
  },
  {
   "cell_type": "code",
   "execution_count": 2,
   "metadata": {},
   "outputs": [],
   "source": [
    "# original_df.info()\n",
    "# original_df.describe()"
   ]
  },
  {
   "cell_type": "markdown",
   "metadata": {
    "deletable": false,
    "editable": false
   },
   "source": [
    "Basic Data imputing steps to be performed as there are 47 missing values in the \"FAMILY_NAME\" column. While it is unclear whether this might add value to the analysis, it does not take up much time or resource to perform the step"
   ]
  },
  {
   "cell_type": "code",
   "execution_count": 3,
   "metadata": {
    "deletable": false,
    "editable": false
   },
   "outputs": [],
   "source": [
    "# Flagging the missing values by creating a new column (missing_columnname) using a for loop\n",
    "for col in original_df:\n",
    "    if original_df[col].isnull().astype(int).sum() > 0:\n",
    "        original_df['MISSING_'+col] = original_df[col].isnull().astype(int)\n",
    "\n",
    "# creating an imputation value and imputing 'FAMILY_NAME'\n",
    "fill = 'Unavailable'\n",
    "original_df['FAMILY_NAME'] = original_df['FAMILY_NAME'].fillna(fill)\n",
    "\n",
    "#dropping the column used to create flags for missing family name\n",
    "# original_df = original_df.drop(labels = 'MISSING_FAMILY_NAME', axis = 1)"
   ]
  },
  {
   "cell_type": "markdown",
   "metadata": {
    "deletable": false,
    "editable": false
   },
   "source": [
    "Creating for loops with dynamic printing as an easy way to generalize creating outlier limits"
   ]
  },
  {
   "cell_type": "code",
   "execution_count": 4,
   "metadata": {
    "deletable": false,
    "editable": false
   },
   "outputs": [],
   "source": [
    "# #for loops to create threshold variables for each variable and replace the values in newly created TH columns\n",
    "    \n",
    "# for val in X_variables:\n",
    "#     print(f\"{val}_LO = original_df['{val}'].quantile(0.25)\")\n",
    "#     print(f\"{val}_HI = original_df['{val}'].quantile(0.80)\\n\")"
   ]
  },
  {
   "cell_type": "code",
   "execution_count": 5,
   "metadata": {
    "deletable": false,
    "editable": false
   },
   "outputs": [],
   "source": [
    "# outlier flags - LO stands for lower thresholds and *****_HI stands for Upper limits that we want to set falgs for\n",
    "TOTAL_MEALS_ORDERED_LO = 10\n",
    "TOTAL_MEALS_ORDERED_HI = 400\n",
    "\n",
    "UNIQUE_MEALS_PURCH_LO = 2\n",
    "UNIQUE_MEALS_PURCH_HI = 9\n",
    "\n",
    "CONTACTS_W_CUSTOMER_SERVICE_LO = 3\n",
    "CONTACTS_W_CUSTOMER_SERVICE_HI = 10\n",
    "\n",
    "PRODUCT_CATEGORIES_VIEWED_LO = 1\n",
    "PRODUCT_CATEGORIES_VIEWED_HI = 10\n",
    "\n",
    "AVG_TIME_PER_SITE_VISIT_LO = 0\n",
    "AVG_TIME_PER_SITE_VISIT_HI = 250\n",
    "\n",
    "MOBILE_NUMBER_LO = 0 \n",
    "MOBILE_NUMBER_HI = 1\n",
    "\n",
    "CANCELLATIONS_BEFORE_NOON_LO = 0\n",
    "CANCELLATIONS_BEFORE_NOON_HI = 9\n",
    "\n",
    "CANCELLATIONS_AFTER_NOON_LO = 0\n",
    "CANCELLATIONS_AFTER_NOON_HI = 3\n",
    "\n",
    "TASTES_AND_PREFERENCES_LO = 0\n",
    "TASTES_AND_PREFERENCES_HI = 1\n",
    "\n",
    "PC_LOGINS_LO = 4.5\n",
    "PC_LOGINS_HI = 6.5\n",
    "\n",
    "MOBILE_LOGINS_LO = 0.5\n",
    "MOBILE_LOGINS_HI = 2.5\n",
    "\n",
    "WEEKLY_PLAN_LO = 0\n",
    "WEEKLY_PLAN_HI = 20\n",
    "\n",
    "EARLY_DELIVERIES_LO = 0\n",
    "EARLY_DELIVERIES_HI = 5\n",
    "\n",
    "LATE_DELIVERIES_LO = 0\n",
    "LATE_DELIVERIES_HI = 10\n",
    "\n",
    "PACKAGE_LOCKER_LO = 0\n",
    "PACKAGE_LOCKER_HI = 1\n",
    "\n",
    "REFRIGERATED_LOCKER_LO = 0\n",
    "REFRIGERATED_LOCKER_HI = 1\n",
    "\n",
    "FOLLOWED_RECOMMENDATIONS_PCT_LO = 10\n",
    "FOLLOWED_RECOMMENDATIONS_PCT_HI = 35\n",
    "\n",
    "AVG_PREP_VID_TIME_LO = 0\n",
    "AVG_PREP_VID_TIME_HI = 300\n",
    "\n",
    "LARGEST_ORDER_SIZE_LO = 2\n",
    "LARGEST_ORDER_SIZE_HI = 8 #6\n",
    "\n",
    "MASTER_CLASSES_ATTENDED_LO = 0\n",
    "MASTER_CLASSES_ATTENDED_HI = 6\n",
    "\n",
    "MEDIAN_MEAL_RATING_LO = 4.5\n",
    "MEDIAN_MEAL_RATING_HI = original_df['MEDIAN_MEAL_RATING'].quantile(0.8)\n",
    "\n",
    "AVG_CLICKS_PER_VISIT_LO = 7.5\n",
    "AVG_CLICKS_PER_VISIT_HI = 17.5\n",
    "\n",
    "TOTAL_PHOTOS_VIEWED_LO = 0\n",
    "TOTAL_PHOTOS_VIEWED_HI = 450"
   ]
  },
  {
   "cell_type": "markdown",
   "metadata": {
    "deletable": false,
    "editable": false
   },
   "source": [
    "Creating for loops with dynamic printing as an easy way to generalize creating columns for outlier flags"
   ]
  },
  {
   "cell_type": "code",
   "execution_count": 6,
   "metadata": {
    "deletable": false,
    "editable": false
   },
   "outputs": [],
   "source": [
    "# for val in X_variables:\n",
    "#     print(f\"original_df['TH_{val}'] = 0\")\n",
    "#     print(f\"c_hi = original_df.loc[0:,'TH_{val}'][original_df['{val}'] > {val}_HI]\")\n",
    "#     print(f\"c_lo = original_df.loc[0:,'TH_{val}'][original_df['{val}'] < {val}_LO]\")\n",
    "\n",
    "#     print(f\"original_df['TH_{val}'].replace(to_replace = c_hi,\")\n",
    "#     print(f\"                                    value      = 1,\")\n",
    "#     print(f\"                                    inplace    = True)\")\n",
    "\n",
    "#     print(f\"original_df['TH_{val}'].replace(to_replace = c_lo,\")\n",
    "#     print(f\"                                    value      = 1,\")\n",
    "#     print(f\"                                    inplace    = True)\\n\")"
   ]
  },
  {
   "cell_type": "code",
   "execution_count": 7,
   "metadata": {
    "deletable": false,
    "editable": false
   },
   "outputs": [],
   "source": [
    "original_df['TH_TOTAL_MEALS_ORDERED'] = 0\n",
    "c_hi = original_df.loc[0:,'TH_TOTAL_MEALS_ORDERED'][original_df['TOTAL_MEALS_ORDERED'] > TOTAL_MEALS_ORDERED_HI]\n",
    "c_lo = original_df.loc[0:,'TH_TOTAL_MEALS_ORDERED'][original_df['TOTAL_MEALS_ORDERED'] < TOTAL_MEALS_ORDERED_LO]\n",
    "original_df['TH_TOTAL_MEALS_ORDERED'].replace(to_replace = c_hi,\n",
    "                                    value      = 1,\n",
    "                                    inplace    = True)\n",
    "original_df['TH_TOTAL_MEALS_ORDERED'].replace(to_replace = c_lo,\n",
    "                                    value      = 1,\n",
    "                                    inplace    = True)\n",
    "\n",
    "original_df['TH_UNIQUE_MEALS_PURCH'] = 0\n",
    "c_hi = original_df.loc[0:,'TH_UNIQUE_MEALS_PURCH'][original_df['UNIQUE_MEALS_PURCH'] > UNIQUE_MEALS_PURCH_HI]\n",
    "c_lo = original_df.loc[0:,'TH_UNIQUE_MEALS_PURCH'][original_df['UNIQUE_MEALS_PURCH'] < UNIQUE_MEALS_PURCH_LO]\n",
    "original_df['TH_UNIQUE_MEALS_PURCH'].replace(to_replace = c_hi,\n",
    "                                    value      = 1,\n",
    "                                    inplace    = True)\n",
    "original_df['TH_UNIQUE_MEALS_PURCH'].replace(to_replace = c_lo,\n",
    "                                    value      = 1,\n",
    "                                    inplace    = True)\n",
    "\n",
    "original_df['TH_CONTACTS_W_CUSTOMER_SERVICE'] = 0\n",
    "c_hi = original_df.loc[0:,'TH_CONTACTS_W_CUSTOMER_SERVICE'][original_df['CONTACTS_W_CUSTOMER_SERVICE'] > CONTACTS_W_CUSTOMER_SERVICE_HI]\n",
    "c_lo = original_df.loc[0:,'TH_CONTACTS_W_CUSTOMER_SERVICE'][original_df['CONTACTS_W_CUSTOMER_SERVICE'] < CONTACTS_W_CUSTOMER_SERVICE_LO]\n",
    "original_df['TH_CONTACTS_W_CUSTOMER_SERVICE'].replace(to_replace = c_hi,\n",
    "                                    value      = 1,\n",
    "                                    inplace    = True)\n",
    "original_df['TH_CONTACTS_W_CUSTOMER_SERVICE'].replace(to_replace = c_lo,\n",
    "                                    value      = 1,\n",
    "                                    inplace    = True)\n",
    "\n",
    "original_df['TH_PRODUCT_CATEGORIES_VIEWED'] = 0\n",
    "c_hi = original_df.loc[0:,'TH_PRODUCT_CATEGORIES_VIEWED'][original_df['PRODUCT_CATEGORIES_VIEWED'] > PRODUCT_CATEGORIES_VIEWED_HI]\n",
    "c_lo = original_df.loc[0:,'TH_PRODUCT_CATEGORIES_VIEWED'][original_df['PRODUCT_CATEGORIES_VIEWED'] < PRODUCT_CATEGORIES_VIEWED_LO]\n",
    "original_df['TH_PRODUCT_CATEGORIES_VIEWED'].replace(to_replace = c_hi,\n",
    "                                    value      = 1,\n",
    "                                    inplace    = True)\n",
    "original_df['TH_PRODUCT_CATEGORIES_VIEWED'].replace(to_replace = c_lo,\n",
    "                                    value      = 1,\n",
    "                                    inplace    = True)\n",
    "\n",
    "original_df['TH_AVG_TIME_PER_SITE_VISIT'] = 0\n",
    "c_hi = original_df.loc[0:,'TH_AVG_TIME_PER_SITE_VISIT'][original_df['AVG_TIME_PER_SITE_VISIT'] > AVG_TIME_PER_SITE_VISIT_HI]\n",
    "c_lo = original_df.loc[0:,'TH_AVG_TIME_PER_SITE_VISIT'][original_df['AVG_TIME_PER_SITE_VISIT'] < AVG_TIME_PER_SITE_VISIT_LO]\n",
    "original_df['TH_AVG_TIME_PER_SITE_VISIT'].replace(to_replace = c_hi,\n",
    "                                    value      = 1,\n",
    "                                    inplace    = True)\n",
    "original_df['TH_AVG_TIME_PER_SITE_VISIT'].replace(to_replace = c_lo,\n",
    "                                    value      = 1,\n",
    "                                    inplace    = True)\n",
    "\n",
    "original_df['TH_MOBILE_NUMBER'] = 0\n",
    "c_hi = original_df.loc[0:,'TH_MOBILE_NUMBER'][original_df['MOBILE_NUMBER'] >= MOBILE_NUMBER_HI]\n",
    "c_lo = original_df.loc[0:,'TH_MOBILE_NUMBER'][original_df['MOBILE_NUMBER'] <= MOBILE_NUMBER_LO]\n",
    "original_df['TH_MOBILE_NUMBER'].replace(to_replace = c_hi,\n",
    "                                    value      = 1,\n",
    "                                    inplace    = True)\n",
    "original_df['TH_MOBILE_NUMBER'].replace(to_replace = c_lo,\n",
    "                                    value      = 1,\n",
    "                                    inplace    = True)\n",
    "\n",
    "original_df['TH_CANCELLATIONS_BEFORE_NOON'] = 0\n",
    "c_hi = original_df.loc[0:,'TH_CANCELLATIONS_BEFORE_NOON'][original_df['CANCELLATIONS_BEFORE_NOON'] > CANCELLATIONS_BEFORE_NOON_HI]\n",
    "c_lo = original_df.loc[0:,'TH_CANCELLATIONS_BEFORE_NOON'][original_df['CANCELLATIONS_BEFORE_NOON'] < CANCELLATIONS_BEFORE_NOON_LO]\n",
    "original_df['TH_CANCELLATIONS_BEFORE_NOON'].replace(to_replace = c_hi,\n",
    "                                    value      = 1,\n",
    "                                    inplace    = True)\n",
    "original_df['TH_CANCELLATIONS_BEFORE_NOON'].replace(to_replace = c_lo,\n",
    "                                    value      = 1,\n",
    "                                    inplace    = True)\n",
    "\n",
    "original_df['TH_CANCELLATIONS_AFTER_NOON'] = 0\n",
    "c_hi = original_df.loc[0:,'TH_CANCELLATIONS_AFTER_NOON'][original_df['CANCELLATIONS_AFTER_NOON'] > CANCELLATIONS_AFTER_NOON_HI]\n",
    "c_lo = original_df.loc[0:,'TH_CANCELLATIONS_AFTER_NOON'][original_df['CANCELLATIONS_AFTER_NOON'] < CANCELLATIONS_AFTER_NOON_LO]\n",
    "original_df['TH_CANCELLATIONS_AFTER_NOON'].replace(to_replace = c_hi,\n",
    "                                    value      = 1,\n",
    "                                    inplace    = True)\n",
    "original_df['TH_CANCELLATIONS_AFTER_NOON'].replace(to_replace = c_lo,\n",
    "                                    value      = 1,\n",
    "                                    inplace    = True)\n",
    "\n",
    "original_df['TH_TASTES_AND_PREFERENCES'] = 0\n",
    "c_hi = original_df.loc[0:,'TH_TASTES_AND_PREFERENCES'][original_df['TASTES_AND_PREFERENCES'] > TASTES_AND_PREFERENCES_HI]\n",
    "c_lo = original_df.loc[0:,'TH_TASTES_AND_PREFERENCES'][original_df['TASTES_AND_PREFERENCES'] < TASTES_AND_PREFERENCES_LO]\n",
    "original_df['TH_TASTES_AND_PREFERENCES'].replace(to_replace = c_hi,\n",
    "                                    value      = 1,\n",
    "                                    inplace    = True)\n",
    "original_df['TH_TASTES_AND_PREFERENCES'].replace(to_replace = c_lo,\n",
    "                                    value      = 1,\n",
    "                                    inplace    = True)\n",
    "\n",
    "original_df['TH_PC_LOGINS'] = 0\n",
    "c_hi = original_df.loc[0:,'TH_PC_LOGINS'][original_df['PC_LOGINS'] > PC_LOGINS_HI]\n",
    "c_lo = original_df.loc[0:,'TH_PC_LOGINS'][original_df['PC_LOGINS'] < PC_LOGINS_LO]\n",
    "original_df['TH_PC_LOGINS'].replace(to_replace = c_hi,\n",
    "                                    value      = 1,\n",
    "                                    inplace    = True)\n",
    "original_df['TH_PC_LOGINS'].replace(to_replace = c_lo,\n",
    "                                    value      = 1,\n",
    "                                    inplace    = True)\n",
    "\n",
    "original_df['TH_MOBILE_LOGINS'] = 0\n",
    "c_hi = original_df.loc[0:,'TH_MOBILE_LOGINS'][original_df['MOBILE_LOGINS'] > MOBILE_LOGINS_HI]\n",
    "c_lo = original_df.loc[0:,'TH_MOBILE_LOGINS'][original_df['MOBILE_LOGINS'] < MOBILE_LOGINS_LO]\n",
    "original_df['TH_MOBILE_LOGINS'].replace(to_replace = c_hi,\n",
    "                                    value      = 1,\n",
    "                                    inplace    = True)\n",
    "original_df['TH_MOBILE_LOGINS'].replace(to_replace = c_lo,\n",
    "                                    value      = 1,\n",
    "                                    inplace    = True)\n",
    "\n",
    "original_df['TH_WEEKLY_PLAN'] = 0\n",
    "c_hi = original_df.loc[0:,'TH_WEEKLY_PLAN'][original_df['WEEKLY_PLAN'] > WEEKLY_PLAN_HI]\n",
    "c_lo = original_df.loc[0:,'TH_WEEKLY_PLAN'][original_df['WEEKLY_PLAN'] < WEEKLY_PLAN_LO]\n",
    "original_df['TH_WEEKLY_PLAN'].replace(to_replace = c_hi,\n",
    "                                    value      = 1,\n",
    "                                    inplace    = True)\n",
    "original_df['TH_WEEKLY_PLAN'].replace(to_replace = c_lo,\n",
    "                                    value      = 1,\n",
    "                                    inplace    = True)\n",
    "\n",
    "original_df['TH_EARLY_DELIVERIES'] = 0\n",
    "c_hi = original_df.loc[0:,'TH_EARLY_DELIVERIES'][original_df['EARLY_DELIVERIES'] > EARLY_DELIVERIES_HI]\n",
    "c_lo = original_df.loc[0:,'TH_EARLY_DELIVERIES'][original_df['EARLY_DELIVERIES'] < EARLY_DELIVERIES_LO]\n",
    "original_df['TH_EARLY_DELIVERIES'].replace(to_replace = c_hi,\n",
    "                                    value      = 1,\n",
    "                                    inplace    = True)\n",
    "original_df['TH_EARLY_DELIVERIES'].replace(to_replace = c_lo,\n",
    "                                    value      = 1,\n",
    "                                    inplace    = True)\n",
    "\n",
    "original_df['TH_LATE_DELIVERIES'] = 0\n",
    "c_hi = original_df.loc[0:,'TH_LATE_DELIVERIES'][original_df['LATE_DELIVERIES'] > LATE_DELIVERIES_HI]\n",
    "c_lo = original_df.loc[0:,'TH_LATE_DELIVERIES'][original_df['LATE_DELIVERIES'] < LATE_DELIVERIES_LO]\n",
    "original_df['TH_LATE_DELIVERIES'].replace(to_replace = c_hi,\n",
    "                                    value      = 1,\n",
    "                                    inplace    = True)\n",
    "original_df['TH_LATE_DELIVERIES'].replace(to_replace = c_lo,\n",
    "                                    value      = 1,\n",
    "                                    inplace    = True)\n",
    "\n",
    "original_df['TH_PACKAGE_LOCKER'] = 0\n",
    "c_hi = original_df.loc[0:,'TH_PACKAGE_LOCKER'][original_df['PACKAGE_LOCKER'] >= PACKAGE_LOCKER_HI]\n",
    "c_lo = original_df.loc[0:,'TH_PACKAGE_LOCKER'][original_df['PACKAGE_LOCKER'] <= PACKAGE_LOCKER_LO]\n",
    "original_df['TH_PACKAGE_LOCKER'].replace(to_replace = c_hi,\n",
    "                                    value      = 1,\n",
    "                                    inplace    = True)\n",
    "original_df['TH_PACKAGE_LOCKER'].replace(to_replace = c_lo,\n",
    "                                    value      = 1,\n",
    "                                    inplace    = True)\n",
    "\n",
    "original_df['TH_REFRIGERATED_LOCKER'] = 0\n",
    "c_hi = original_df.loc[0:,'TH_REFRIGERATED_LOCKER'][original_df['REFRIGERATED_LOCKER'] >= REFRIGERATED_LOCKER_HI]\n",
    "c_lo = original_df.loc[0:,'TH_REFRIGERATED_LOCKER'][original_df['REFRIGERATED_LOCKER'] <= REFRIGERATED_LOCKER_LO]\n",
    "original_df['TH_REFRIGERATED_LOCKER'].replace(to_replace = c_hi,\n",
    "                                    value      = 1,\n",
    "                                    inplace    = True)\n",
    "original_df['TH_REFRIGERATED_LOCKER'].replace(to_replace = c_lo,\n",
    "                                    value      = 1,\n",
    "                                    inplace    = True)\n",
    "\n",
    "original_df['TH_FOLLOWED_RECOMMENDATIONS_PCT'] = 0\n",
    "c_hi = original_df.loc[0:,'TH_FOLLOWED_RECOMMENDATIONS_PCT'][original_df['FOLLOWED_RECOMMENDATIONS_PCT'] > FOLLOWED_RECOMMENDATIONS_PCT_HI]\n",
    "c_lo = original_df.loc[0:,'TH_FOLLOWED_RECOMMENDATIONS_PCT'][original_df['FOLLOWED_RECOMMENDATIONS_PCT'] < FOLLOWED_RECOMMENDATIONS_PCT_LO]\n",
    "original_df['TH_FOLLOWED_RECOMMENDATIONS_PCT'].replace(to_replace = c_hi,\n",
    "                                    value      = 1,\n",
    "                                    inplace    = True)\n",
    "original_df['TH_FOLLOWED_RECOMMENDATIONS_PCT'].replace(to_replace = c_lo,\n",
    "                                    value      = 1,\n",
    "                                    inplace    = True)\n",
    "\n",
    "original_df['TH_AVG_PREP_VID_TIME'] = 0\n",
    "c_hi = original_df.loc[0:,'TH_AVG_PREP_VID_TIME'][original_df['AVG_PREP_VID_TIME'] > AVG_PREP_VID_TIME_HI]\n",
    "c_lo = original_df.loc[0:,'TH_AVG_PREP_VID_TIME'][original_df['AVG_PREP_VID_TIME'] < AVG_PREP_VID_TIME_LO]\n",
    "original_df['TH_AVG_PREP_VID_TIME'].replace(to_replace = c_hi,\n",
    "                                    value      = 1,\n",
    "                                    inplace    = True)\n",
    "original_df['TH_AVG_PREP_VID_TIME'].replace(to_replace = c_lo,\n",
    "                                    value      = 1,\n",
    "                                    inplace    = True)\n",
    "\n",
    "original_df['TH_LARGEST_ORDER_SIZE'] = 0\n",
    "c_hi = original_df.loc[0:,'TH_LARGEST_ORDER_SIZE'][original_df['LARGEST_ORDER_SIZE'] > LARGEST_ORDER_SIZE_HI]\n",
    "c_lo = original_df.loc[0:,'TH_LARGEST_ORDER_SIZE'][original_df['LARGEST_ORDER_SIZE'] < LARGEST_ORDER_SIZE_LO]\n",
    "original_df['TH_LARGEST_ORDER_SIZE'].replace(to_replace = c_hi,\n",
    "                                    value      = 1,\n",
    "                                    inplace    = True)\n",
    "original_df['TH_LARGEST_ORDER_SIZE'].replace(to_replace = c_lo,\n",
    "                                    value      = 1,\n",
    "                                    inplace    = True)\n",
    "\n",
    "original_df['TH_MASTER_CLASSES_ATTENDED'] = 0\n",
    "c_hi = original_df.loc[0:,'TH_MASTER_CLASSES_ATTENDED'][original_df['MASTER_CLASSES_ATTENDED'] > MASTER_CLASSES_ATTENDED_HI]\n",
    "c_lo = original_df.loc[0:,'TH_MASTER_CLASSES_ATTENDED'][original_df['MASTER_CLASSES_ATTENDED'] < MASTER_CLASSES_ATTENDED_LO]\n",
    "original_df['TH_MASTER_CLASSES_ATTENDED'].replace(to_replace = c_hi,\n",
    "                                    value      = 1,\n",
    "                                    inplace    = True)\n",
    "original_df['TH_MASTER_CLASSES_ATTENDED'].replace(to_replace = c_lo,\n",
    "                                    value      = 1,\n",
    "                                    inplace    = True)\n",
    "\n",
    "original_df['TH_MEDIAN_MEAL_RATING'] = 0\n",
    "c_hi = original_df.loc[0:,'TH_MEDIAN_MEAL_RATING'][original_df['MEDIAN_MEAL_RATING'] > MEDIAN_MEAL_RATING_HI]\n",
    "c_lo = original_df.loc[0:,'TH_MEDIAN_MEAL_RATING'][original_df['MEDIAN_MEAL_RATING'] < MEDIAN_MEAL_RATING_LO]\n",
    "original_df['TH_MEDIAN_MEAL_RATING'].replace(to_replace = c_hi,\n",
    "                                    value      = 1,\n",
    "                                    inplace    = True)\n",
    "original_df['TH_MEDIAN_MEAL_RATING'].replace(to_replace = c_lo,\n",
    "                                    value      = 1,\n",
    "                                    inplace    = True)\n",
    "\n",
    "original_df['TH_AVG_CLICKS_PER_VISIT'] = 0\n",
    "c_hi = original_df.loc[0:,'TH_AVG_CLICKS_PER_VISIT'][original_df['AVG_CLICKS_PER_VISIT'] > AVG_CLICKS_PER_VISIT_HI]\n",
    "c_lo = original_df.loc[0:,'TH_AVG_CLICKS_PER_VISIT'][original_df['AVG_CLICKS_PER_VISIT'] < AVG_CLICKS_PER_VISIT_LO]\n",
    "original_df['TH_AVG_CLICKS_PER_VISIT'].replace(to_replace = c_hi,\n",
    "                                    value      = 1,\n",
    "                                    inplace    = True)\n",
    "original_df['TH_AVG_CLICKS_PER_VISIT'].replace(to_replace = c_lo,\n",
    "                                    value      = 1,\n",
    "                                    inplace    = True)\n",
    "\n",
    "original_df['TH_TOTAL_PHOTOS_VIEWED'] = 0\n",
    "c_hi = original_df.loc[0:,'TH_TOTAL_PHOTOS_VIEWED'][original_df['TOTAL_PHOTOS_VIEWED'] > TOTAL_PHOTOS_VIEWED_HI]\n",
    "c_lo = original_df.loc[0:,'TH_TOTAL_PHOTOS_VIEWED'][original_df['TOTAL_PHOTOS_VIEWED'] < TOTAL_PHOTOS_VIEWED_LO]\n",
    "original_df['TH_TOTAL_PHOTOS_VIEWED'].replace(to_replace = c_hi,\n",
    "                                    value      = 1,\n",
    "                                    inplace    = True)\n",
    "original_df['TH_TOTAL_PHOTOS_VIEWED'].replace(to_replace = c_lo,\n",
    "                                    value      = 1,\n",
    "                                    inplace    = True)"
   ]
  },
  {
   "cell_type": "markdown",
   "metadata": {},
   "source": [
    "One Hot Encoding for email Addresses to segregate professional, personal and junk email domains in an attempt to find patterns"
   ]
  },
  {
   "cell_type": "code",
   "execution_count": 8,
   "metadata": {
    "deletable": false,
    "editable": false
   },
   "outputs": [],
   "source": [
    "# seperating email domain and name\n",
    "email_list = []\n",
    "\n",
    "# looping over each email address\n",
    "for index, col in original_df.iterrows():\n",
    "    \n",
    "    # splitting email domain at '@'\n",
    "    email_split = original_df.loc[index, 'EMAIL'].split(sep = '@')\n",
    "    \n",
    "    # appending email_lst with the results\n",
    "    email_list.append(email_split)\n",
    "    \n",
    "\n",
    "# converting email_lst into a DataFrame \n",
    "email_df = pd.DataFrame(email_list)\n",
    "\n",
    "\n",
    "# STEP 2: concatenating with original DataFrame\n",
    "\n",
    "# # safety measure in case of multiple concatenations\n",
    "# original_df = pd.read_excel(\"Apprentice_Chef_Dataset.xlsx\")\n",
    "\n",
    "# renaming column to concatenate\n",
    "# print(email_df.columns )\n",
    "email_df.columns = ['ID', 'EMAIL_DOMAIN']\n",
    "\n",
    "\n",
    "# concatenating personal_email_domain with friends DataFrame\n",
    "original_df = pd.concat([original_df, email_df.loc[:,'EMAIL_DOMAIN']],\n",
    "                   axis = 1)\n",
    "\n",
    "\n",
    "# printing value counts of personal_email_domain\n",
    "# original_df.loc[: ,'email_domain'].value_counts()\n",
    "\n",
    "# email domain types\n",
    "professional_email_domains = ['@mmm.com','@amex.com','@apple.com','@boeing.com',\n",
    "                              '@caterpillar.com','@chevron.com','@cisco.com','@cocacola.com',\n",
    "                              '@disney.com','@dupont.com','@exxon.com','@ge.org','@goldmansacs.com',\n",
    "                              '@homedepot.com','@ibm.com','@intel.com','@jnj.com','@jpmorgan.com',\n",
    "                              '@mcdonalds.com','@merck.com','@microsoft.com','@nike.com',\n",
    "                              '@pfizer.com','@pg.com','@travelers.com','@unitedtech.com','@unitedhealth.com',\n",
    "                              '@verizon.com','@visa.com','@walmart.com']\n",
    "personal_email_domains     = ['@gmail.com','@yahoo.com','@protonmail.com']\n",
    "junk_email_domains         = ['@me.com','@aol.com','@hotmail.com','@live.com','@msn.com','@passport.com']\n",
    "\n",
    "\n",
    "# email list\n",
    "email_lst = []\n",
    "\n",
    "\n",
    "# looping to group observations by domain type\n",
    "for domain in original_df['EMAIL_DOMAIN']:\n",
    "        if '@' + domain in professional_email_domains:\n",
    "            email_lst.append('PROFESSIONAL_EMAIL')\n",
    "            \n",
    "        elif '@' + domain in personal_email_domains:\n",
    "            email_lst.append('PERSONAL_EMAIL')\n",
    "            \n",
    "        elif '@' + domain in junk_email_domains:\n",
    "            email_lst.append('JUNK_EMAIL')\n",
    "            \n",
    "        else:\n",
    "            print('Unknown')\n",
    "\n",
    "\n",
    "# concatenating with original DataFrame\n",
    "original_df['DOMAIN'] = pd.Series(email_lst)\n",
    "\n",
    "\n",
    "# checking results\n",
    "# original_df['DOMAIN'].value_counts()\n",
    "\n",
    "# one hot encoding for email domain \n",
    "stat = pd.get_dummies(original_df['DOMAIN'])\n",
    "\n",
    "original_df = original_df.join([stat])"
   ]
  },
  {
   "cell_type": "markdown",
   "metadata": {
    "deletable": false,
    "editable": false
   },
   "source": [
    "One Hot Encoding for Followed Recomendations percentage"
   ]
  },
  {
   "cell_type": "code",
   "execution_count": 9,
   "metadata": {},
   "outputs": [],
   "source": [
    "# Creating high medium and low thresholds to prepare for one hot encoding\n",
    "original_df['FOLLOWED_RECO_RANGE'] = 0\n",
    "\n",
    "for index, val in original_df.iterrows():\n",
    "    if original_df.loc[index, 'FOLLOWED_RECOMMENDATIONS_PCT'] <= 30:\n",
    "        original_df.loc[index, 'FOLLOWED_RECO_RANGE'] = 'LOW_FOLLOW_PCT'\n",
    "    elif original_df.loc[index, 'FOLLOWED_RECOMMENDATIONS_PCT'] > 30 and original_df.loc[index, 'FOLLOWED_RECOMMENDATIONS_PCT'] <= 75:\n",
    "        original_df.loc[index, 'FOLLOWED_RECO_RANGE'] = 'MEDIUM_FOLLOW_PCT'\n",
    "    else:\n",
    "        original_df.loc[index, 'FOLLOWED_RECO_RANGE'] = 'HIGH_FOLLOW_PCT'\n",
    "\n",
    "# ONE HOT ENCODING FOLLOWED RECOMMENDATIONS\n",
    "stat = pd.get_dummies(original_df['FOLLOWED_RECO_RANGE'])\n",
    "original_df = original_df.join([stat])"
   ]
  },
  {
   "cell_type": "code",
   "execution_count": 10,
   "metadata": {},
   "outputs": [],
   "source": [
    "# checks if the average order for an individual is more than 23 and flags it as 1 if true and 0 otherwise\n",
    "\n",
    "original_df['REVENUE_PER_MEAL'] = original_df['REVENUE'] / original_df['TOTAL_MEALS_ORDERED']\n",
    "original_df['REV_PER_MEAL_STATUS'] = 0\n",
    "\n",
    "for index, val in original_df.iterrows():\n",
    "    if original_df.loc[index, 'REVENUE_PER_MEAL'] <= 23:\n",
    "        original_df.loc[index, 'REV_PER_MEAL_STATUS'] = 'LOW_BUY'\n",
    "    else :\n",
    "        original_df.loc[index, 'REVENUE_PER_MEAL'] > 23 \n",
    "        original_df.loc[index, 'REV_PER_MEAL_STATUS'] = 'HIGH_BUY'\n",
    "        \n",
    "# ONE HOT ENCODING REVENUE PER MEAL\n",
    "stat = pd.get_dummies(original_df['REV_PER_MEAL_STATUS'])\n",
    "original_df = original_df.join([stat])"
   ]
  },
  {
   "cell_type": "code",
   "execution_count": 11,
   "metadata": {},
   "outputs": [],
   "source": [
    "# checks if the average order for an individual is more than 23 and flags it as 1 if true and 0 otherwise\n",
    "\n",
    "original_df['REV_MED_FOL_PCT'] = original_df['MEDIUM_FOLLOW_PCT'] * original_df['REVENUE']\n",
    "original_df['REV_MED_FOL_PCT_STATUS'] = 0\n",
    "\n",
    "for index, val in original_df.iterrows():\n",
    "    if original_df.loc[index, 'REV_MED_FOL_PCT'] <= 623:\n",
    "        original_df.loc[index, 'REV_MED_FOL_PCT_STATUS'] = 'LOW_REV_MED_FOL_PCT'\n",
    "    elif original_df.loc[index, 'REV_MED_FOL_PCT'] > 623 and original_df.loc[index, 'REV_MED_FOL_PCT'] <= 1188:\n",
    "        original_df.loc[index, 'REV_MED_FOL_PCT_STATUS'] = 'MEDIUM_REV_MED_FOL_PCT'\n",
    "    else:\n",
    "        original_df.loc[index, 'REV_MED_FOL_PCT_STATUS'] = 'HIGH_REV_MED_FOL_PCT'\n",
    "        \n",
    "# ONE HOT ENCODING\n",
    "stat = pd.get_dummies(original_df['REV_MED_FOL_PCT_STATUS'])\n",
    "original_df = original_df.join([stat])"
   ]
  },
  {
   "cell_type": "markdown",
   "metadata": {
    "deletable": false,
    "editable": false
   },
   "source": [
    "It will be worth looking into the purchase behavior of customers who avail different levels of discounts in the program"
   ]
  },
  {
   "cell_type": "code",
   "execution_count": 12,
   "metadata": {},
   "outputs": [],
   "source": [
    "#Create a column named with weekly meals by dividing total meals bought by number of weeks\n",
    "original_df['WEEKLY_MEALS'] = original_df['TOTAL_MEALS_ORDERED']/52\n",
    "\n",
    "original_df['DISC_STATUS'] = 0\n",
    "original_df['DISC_STATUS_NO'] = 0\n",
    "\n",
    "for index, val in original_df.iterrows():\n",
    "    if original_df.loc[index, 'WEEKLY_PLAN']==0:\n",
    "        original_df.loc[index, 'DISC_STATUS'] = 'NO_DISC'\n",
    "        original_df.loc[index, 'DISC_STATUS_NO'] = 0\n",
    "    elif original_df.loc[index, 'WEEKLY_MEALS'] < 3  and original_df.loc[index, 'WEEKLY_PLAN'] > 0:\n",
    "        original_df.loc[index, 'DISC_STATUS'] = 'LOW_DISC'\n",
    "        original_df.loc[index, 'DISC_STATUS_NO'] = 1\n",
    "    else:\n",
    "        original_df.loc[index, 'DISC_STATUS'] = 'HIGH_DISC'\n",
    "        original_df.loc[index, 'DISC_STATUS_NO'] = 2    \n",
    "        \n",
    "# ONE HOT ENCODING to seperate different types of discount groups\n",
    "stat = pd.get_dummies(original_df['DISC_STATUS'])\n",
    "original_df = original_df.join([stat])"
   ]
  },
  {
   "cell_type": "markdown",
   "metadata": {
    "deletable": false,
    "editable": false
   },
   "source": [
    "Assuming \n",
    "<br> (i) the customers who are serious about the meal programs take the effort to fill correct information and possibly full names,  and </br>\n",
    "<br> (ii) the customers who have larger names (eg: Aegon Targaryen (son of Rhaegar)) may belong to wealthier / more distinguished / prouder lineages </br>\n",
    "we should explore look into the distribution of number of names to different fields such as cross sell success and revenue"
   ]
  },
  {
   "cell_type": "code",
   "execution_count": 13,
   "metadata": {},
   "outputs": [],
   "source": [
    "#Function to split texts to words\n",
    "\n",
    "def text_split_feature(col, df, sep=' ', new_col_name='number_of_names'):\n",
    "    \"\"\"\n",
    "Splits values in a string Series (as part of a DataFrame) and sums the number\n",
    "of resulting items. Automatically appends summed column to original DataFrame.\n",
    "\n",
    "PARAMETERS\n",
    "----------\n",
    "col          : column to split\n",
    "df           : DataFrame where column is located\n",
    "sep          : string sequence to split by, default ' '\n",
    "new_col_name : name of new column after summing split, default\n",
    "               'number_of_names'\n",
    "\"\"\"\n",
    "    \n",
    "    df[new_col_name] = 0\n",
    "    \n",
    "    \n",
    "    for index, val in df.iterrows():\n",
    "        df.loc[index, new_col_name] = len(df.loc[index, col].split(sep = ' '))"
   ]
  },
  {
   "cell_type": "code",
   "execution_count": 14,
   "metadata": {},
   "outputs": [],
   "source": [
    "#Function call to split the names and number of names\n",
    "text_split_feature(col = 'NAME',\n",
    "                   df  = original_df,\n",
    "                   new_col_name='NO_OF_NAMES',\n",
    "                  )\n",
    "original_df['NAME_STATUS'] = 0\n",
    "\n",
    "#Setting the the threshold flags to prepare for one hot encoding\n",
    "for index, val in original_df.iterrows():\n",
    "    if original_df.loc[index, 'NO_OF_NAMES']<=2:\n",
    "        original_df.loc[index, 'NAME_STATUS'] = 'ONE_NAME'\n",
    "    else:\n",
    "        original_df.loc[index, 'NAME_STATUS'] = 'MORE_NAME'\n",
    "\n",
    "# ONE HOT ENCODING\n",
    "stat = pd.get_dummies(original_df['NAME_STATUS'])\n",
    "original_df = original_df.join([stat])\n",
    "\n",
    "# checking results\n",
    "# original_df['NO_OF_NAMES'].sort_values(ascending = False)"
   ]
  },
  {
   "cell_type": "markdown",
   "metadata": {
    "deletable": false,
    "editable": false
   },
   "source": [
    "<h3>. Build a machine learning model to predict which customers will subscribe to \"Halfway There\" service</h3>"
   ]
  },
  {
   "cell_type": "code",
   "execution_count": 15,
   "metadata": {},
   "outputs": [],
   "source": [
    "# original_df_corr = original_df.corr()\n",
    "# print(original_df_corr.loc['CROSS_SELL_SUCCESS'].sort_values(ascending = False))"
   ]
  },
  {
   "cell_type": "markdown",
   "metadata": {
    "deletable": false,
    "editable": false
   },
   "source": [
    "Considering there will be different combinations of explanatory variables that we may need to try in the model, it is worth investing time in creating dictionaries to make the process easier"
   ]
  },
  {
   "cell_type": "code",
   "execution_count": 16,
   "metadata": {
    "code_folding": []
   },
   "outputs": [],
   "source": [
    "#creating\n",
    "candidate_dict = {\n",
    "\n",
    "# Expanded using feature engineered variables\n",
    "    'logit_initial':['REVENUE'                      ,                     \n",
    "                     'TOTAL_MEALS_ORDERED'\t        ,\n",
    "                     'UNIQUE_MEALS_PURCH'\t        ,\n",
    "                     'CONTACTS_W_CUSTOMER_SERVICE'\t,\n",
    "                     'PRODUCT_CATEGORIES_VIEWED'\t,\n",
    "                     'AVG_TIME_PER_SITE_VISIT'\t    ,\n",
    "                     'MOBILE_NUMBER'\t            , \n",
    "                     'CANCELLATIONS_BEFORE_NOON'\t,\n",
    "                     'CANCELLATIONS_AFTER_NOON'\t    ,\n",
    "                     'TASTES_AND_PREFERENCES'\t    ,\n",
    "                     'PC_LOGINS'\t                ,\n",
    "                     'MOBILE_LOGINS'                ,\t\n",
    "                     'WEEKLY_PLAN'\t                ,\n",
    "                     'EARLY_DELIVERIES'\t,\n",
    "                     'LATE_DELIVERIES'\t,\n",
    "                     'PACKAGE_LOCKER'\t,\n",
    "                     'REFRIGERATED_LOCKER',\t\n",
    "                     'FOLLOWED_RECOMMENDATIONS_PCT'\t,\n",
    "                     'AVG_PREP_VID_TIME'\t,\n",
    "                     'LARGEST_ORDER_SIZE'\t,\n",
    "                     'MASTER_CLASSES_ATTENDED'\t,\n",
    "                     'MEDIAN_MEAL_RATING'\t,\n",
    "                     'AVG_CLICKS_PER_VISIT'\t,\n",
    "                     'TOTAL_PHOTOS_VIEWED'\t,\n",
    "                     'MISSING_FAMILY_NAME'\t,\n",
    "                     'JUNK_EMAIL',\t\n",
    "                     'PERSONAL_EMAIL'\t,\n",
    "                     'PROFESSIONAL_EMAIL',\t\n",
    "                     'HIGH_FOLL_RECOM'\t,\n",
    "                     'LOW_FOLL_RECOM'\t,\n",
    "                     'MEDIUM_FOLL_RECOM'\n",
    "    ],\n",
    "    \n",
    "# full model after adding outliers\n",
    "    'logit_TH'    : ['REVENUE'                     ,\n",
    "                     'TOTAL_MEALS_ORDERED'\t,\n",
    "                     'UNIQUE_MEALS_PURCH'\t,\n",
    "                     'CONTACTS_W_CUSTOMER_SERVICE'\t,\n",
    "                     'PRODUCT_CATEGORIES_VIEWED'\t,\n",
    "                     'AVG_TIME_PER_SITE_VISIT'\t,\n",
    "                     'MOBILE_NUMBER'\t,\n",
    "                     'CANCELLATIONS_BEFORE_NOON'\t,\n",
    "                     'CANCELLATIONS_AFTER_NOON'\t,\n",
    "                     'TASTES_AND_PREFERENCES'\t,\n",
    "                     'PC_LOGINS'\t,\n",
    "                     'MOBILE_LOGINS',\t\n",
    "                     'WEEKLY_PLAN'\t,\n",
    "                     'EARLY_DELIVERIES'\t,\n",
    "                     'LATE_DELIVERIES'\t,\n",
    "                     'PACKAGE_LOCKER'\t,\n",
    "                     'REFRIGERATED_LOCKER',\t\n",
    "                     'FOLLOWED_RECOMMENDATIONS_PCT'\t,\n",
    "                     'AVG_PREP_VID_TIME'\t,\n",
    "                     'LARGEST_ORDER_SIZE'\t,\n",
    "                     'MASTER_CLASSES_ATTENDED'\t,\n",
    "                     'MEDIAN_MEAL_RATING'\t,\n",
    "                     'AVG_CLICKS_PER_VISIT'\t,\n",
    "                     'TOTAL_PHOTOS_VIEWED'\t,\n",
    "                     'MISSING_FAMILY_NAME'\t,\n",
    "                     'JUNK_EMAIL',\t\n",
    "                     'PERSONAL_EMAIL'\t,\n",
    "                     'PROFESSIONAL_EMAIL',\t\n",
    "                     'HIGH_FOLL_RECOM'\t,\n",
    "                     'LOW_FOLL_RECOM'\t,\n",
    "                     'MEDIUM_FOLL_RECOM',\t\n",
    "                    # --Outlier Thresholds\n",
    "                     'TH_TOTAL_MEALS_ORDERED'\t,\n",
    "                     'TH_UNIQUE_MEALS_PURCH'\t,\n",
    "                     'TH_CONTACTS_W_CUSTOMER_SERVICE'\t,\n",
    "                     'TH_PRODUCT_CATEGORIES_VIEWED'\t,\n",
    "                     'TH_AVG_TIME_PER_SITE_VISIT'\t,\n",
    "                     'TH_MOBILE_NUMBER'\t,\n",
    "                     'TH_CANCELLATIONS_BEFORE_NOON'\t,\n",
    "                     'TH_CANCELLATIONS_AFTER_NOON'\t,\n",
    "                     'TH_TASTES_AND_PREFERENCES'\t,\n",
    "                     'TH_PC_LOGINS'\t,\n",
    "                     'TH_MOBILE_LOGINS'\t,\n",
    "                     'TH_WEEKLY_PLAN'\t,\n",
    "                     'TH_EARLY_DELIVERIES',\t\n",
    "                     'TH_LATE_DELIVERIES'\t,\n",
    "                     'TH_PACKAGE_LOCKER'\t,\n",
    "                     'TH_REFRIGERATED_LOCKER',\t\n",
    "                     'TH_FOLLOWED_RECOMMENDATIONS_PCT'\t,\n",
    "                     'TH_AVG_PREP_VID_TIME'\t,\n",
    "                     'TH_LARGEST_ORDER_SIZE',\t\n",
    "                     'TH_MASTER_CLASSES_ATTENDED'\t,\n",
    "                     'TH_MEDIAN_MEAL_RATING'\t,\n",
    "                     'TH_AVG_CLICKS_PER_VISIT'\t,\n",
    "                     'TH_TOTAL_PHOTOS_VIEWED'\t,\n",
    "    ],\n",
    "#full model and new features\n",
    "'logit_TH_NEW_FEATURES'    : [\n",
    "                     'REVENUE'                     ,\n",
    "                     'TOTAL_MEALS_ORDERED'\t,\n",
    "                     'UNIQUE_MEALS_PURCH'\t,\n",
    "                     'CONTACTS_W_CUSTOMER_SERVICE'\t,\n",
    "                     'PRODUCT_CATEGORIES_VIEWED'\t,\n",
    "                     'AVG_TIME_PER_SITE_VISIT'\t,\n",
    "                     'MOBILE_NUMBER'\t,\n",
    "                     'CANCELLATIONS_BEFORE_NOON'\t,\n",
    "                     'CANCELLATIONS_AFTER_NOON'\t,\n",
    "                     'TASTES_AND_PREFERENCES'\t,\n",
    "                     'PC_LOGINS'\t,\n",
    "                     'MOBILE_LOGINS',\t\n",
    "                     'WEEKLY_PLAN'\t,\n",
    "                     'EARLY_DELIVERIES'\t,\n",
    "                     'LATE_DELIVERIES'\t,\n",
    "                     'PACKAGE_LOCKER'\t,\n",
    "                     'REFRIGERATED_LOCKER',\t\n",
    "                     'FOLLOWED_RECOMMENDATIONS_PCT'\t,\n",
    "                     'AVG_PREP_VID_TIME'\t,\n",
    "                     'LARGEST_ORDER_SIZE'\t,\n",
    "                     'MASTER_CLASSES_ATTENDED'\t,\n",
    "                     'MEDIAN_MEAL_RATING'\t,\n",
    "                     'AVG_CLICKS_PER_VISIT'\t,\n",
    "                     'TOTAL_PHOTOS_VIEWED'\t,\n",
    "                     'MISSING_FAMILY_NAME'\t,\n",
    "                     'JUNK_EMAIL',\t\n",
    "                     'PERSONAL_EMAIL'\t,\n",
    "                     'PROFESSIONAL_EMAIL',\t\n",
    "                     'HIGH_FOLL_RECOM'\t,\n",
    "                     'LOW_FOLL_RECOM'\t,\n",
    "                     'MEDIUM_FOLL_RECOM',\t\n",
    "                     # --Outlier Thresholds\n",
    "                     'TH_TOTAL_MEALS_ORDERED'\t,\n",
    "                     'TH_UNIQUE_MEALS_PURCH'\t,\n",
    "                     'TH_CONTACTS_W_CUSTOMER_SERVICE'\t,\n",
    "                     'TH_PRODUCT_CATEGORIES_VIEWED'\t,\n",
    "                     'TH_AVG_TIME_PER_SITE_VISIT'\t,\n",
    "                     'TH_MOBILE_NUMBER'\t,\n",
    "                     'TH_CANCELLATIONS_BEFORE_NOON'\t,\n",
    "                     'TH_CANCELLATIONS_AFTER_NOON'\t,\n",
    "                     'TH_TASTES_AND_PREFERENCES'\t,\n",
    "                     'TH_PC_LOGINS'\t,\n",
    "                     'TH_MOBILE_LOGINS'\t,\n",
    "                     'TH_WEEKLY_PLAN'\t,\n",
    "                     'TH_EARLY_DELIVERIES',\t\n",
    "                     'TH_LATE_DELIVERIES'\t,\n",
    "                     'TH_PACKAGE_LOCKER'\t,\n",
    "                     'TH_REFRIGERATED_LOCKER',\t\n",
    "                     'TH_FOLLOWED_RECOMMENDATIONS_PCT'\t,\n",
    "                     'TH_AVG_PREP_VID_TIME'\t,\n",
    "                     'TH_LARGEST_ORDER_SIZE',\t\n",
    "                     'TH_MASTER_CLASSES_ATTENDED'\t,\n",
    "                     'TH_MEDIAN_MEAL_RATING'\t,\n",
    "                     'TH_AVG_CLICKS_PER_VISIT'\t,\n",
    "                     'TH_TOTAL_PHOTOS_VIEWED'\t,     \n",
    "                    # --New Features\n",
    "                     'REVENUE_PER_MEAL'\t,\t\n",
    "                     'HIGH_BUY'\t,\n",
    "                     'LOW_BUY'\t,\n",
    "                              \n",
    "                     'HIGH_FOLLOW_PCT'\t,\n",
    "                     'LOW_FOLLOW_PCT'\t,\n",
    "                     'MEDIUM_FOLLOW_PCT',\n",
    "                              \n",
    "                     'PROFESSIONAL_EMAIL',\n",
    "                     'PERSONAL_EMAIL',\n",
    "                     'JUNK_EMAIL',\n",
    "                              \n",
    "                     'LOW_REV_MED_FOL_PCT',\n",
    "                     'MEDIUM_REV_MED_FOL_PCT',\n",
    "                     'HIGH_REV_MED_FOL_PCT',\n",
    "                    \n",
    "                     'NO_DISC',\n",
    "                     'LOW_DISC',\n",
    "                     'HIGH_DISC'\n",
    "                ],\n",
    "# only variables with 5 percentage or above correlations \n",
    "'logit_Above_5pct'    : [   'TH_FOLLOWED_RECOMMENDATIONS_PCT'    ,\n",
    "                            'FOLLOWED_RECOMMENDATIONS_PCT'       ,   \n",
    "                            'HIGH_REV_MED_FOL_PCT'               ,\n",
    "                            'REV_MED_FOL_PCT'                    ,\n",
    "                            'HIGH_FOLLOW_PCT'                    ,\n",
    "                            'PROFESSIONAL_EMAIL'                 ,\n",
    "                            'CANCELLATIONS_BEFORE_NOON'          ,\n",
    "                            'NO_OF_NAMES'                        ,\n",
    "                            'MEDIUM_REV_MED_FOL_PCT'             ,\n",
    "                            'MOBILE_NUMBER'                      ,\n",
    "                            'TASTES_AND_PREFERENCES'             ,\n",
    "                            'REFRIGERATED_LOCKER'                ,\n",
    "                            'MOBILE_LOGINS'                      ,\n",
    "                            'CANCELLATIONS_AFTER_NOON'           ,\n",
    "                            'LOW_REV_MED_FOL_PCT'                ,\n",
    "                            'LOW_FOLLOW_PCT'                     ,\n",
    "                        ]\n",
    "     }\n",
    "y_variables = ['CROSS_SELL_SUCCESS']"
   ]
  },
  {
   "cell_type": "code",
   "execution_count": 17,
   "metadata": {},
   "outputs": [],
   "source": [
    "original_df_data   =  original_df.loc[:,candidate_dict['logit_Above_5pct']]\n",
    "original_df_target =  original_df.loc[:, y_variables]"
   ]
  },
  {
   "cell_type": "code",
   "execution_count": 18,
   "metadata": {},
   "outputs": [],
   "source": [
    "# train-test split\n",
    "\n",
    "X_train, X_test, y_train, y_test = train_test_split(original_df_data, original_df_target,\n",
    "                                                   test_size = 0.25, \n",
    "                                                   random_state = 222,\n",
    "                                                   stratify = original_df_target)"
   ]
  },
  {
   "cell_type": "markdown",
   "metadata": {},
   "source": [
    "After trying GridSearchCV to do hyper parameter tuning which gave lower results than base models, the model was tuned manually to achieve higher scores"
   ]
  },
  {
   "cell_type": "code",
   "execution_count": 19,
   "metadata": {},
   "outputs": [
    {
     "name": "stdout",
     "output_type": "stream",
     "text": [
      "Training Score   :  0.799\n",
      "Testing Score    :  0.842\n",
      "AUC Score        :  0.826\n"
     ]
    },
    {
     "name": "stderr",
     "output_type": "stream",
     "text": [
      "//anaconda3/lib/python3.7/site-packages/sklearn/utils/validation.py:724: DataConversionWarning: A column-vector y was passed when a 1d array was expected. Please change the shape of y to (n_samples, ), for example using ravel().\n",
      "  y = column_or_1d(y, warn=True)\n"
     ]
    }
   ],
   "source": [
    "# prediction model\n",
    "logreg = LogisticRegression(solver       = 'lbfgs',\n",
    "                            random_state = 222,\n",
    "                            C            = 1,\n",
    "                            warm_start   = True,\n",
    "                            max_iter     = 5000\n",
    "                     )\n",
    "\n",
    "logreg.fit(X_train, y_train)\n",
    "\n",
    "logreg_pred = logreg.predict(X_test)\n",
    "\n",
    "print('Training Score   : ', logreg.score(X_train, y_train).round(3))\n",
    "print('Testing Score    : ', logreg.score(X_test, y_test).round(3))\n",
    "print('AUC Score        : ', roc_auc_score(y_true  = y_test, \n",
    "                                           y_score = logreg_pred).round(3))"
   ]
  },
  {
   "cell_type": "code",
   "execution_count": 20,
   "metadata": {},
   "outputs": [
    {
     "name": "stdout",
     "output_type": "stream",
     "text": [
      "[[122  34]\n",
      " [ 43 288]]\n"
     ]
    }
   ],
   "source": [
    "# creating a confusion matrix\n",
    "print(confusion_matrix(y_true = y_test,\n",
    "                       y_pred = logreg_pred))"
   ]
  },
  {
   "cell_type": "markdown",
   "metadata": {},
   "source": [
    "<h3>. Develop insights</h3>"
   ]
  },
  {
   "cell_type": "markdown",
   "metadata": {},
   "source": [
    "Exploratory Data Analysis to be done to develop insights "
   ]
  },
  {
   "cell_type": "code",
   "execution_count": 21,
   "metadata": {},
   "outputs": [
    {
     "data": {
      "image/png": "[encoded data removed]",
      "text/plain": [
       "<Figure size 432x288 with 1 Axes>"
      ]
     },
     "metadata": {
      "needs_background": "light"
     },
     "output_type": "display_data"
    }
   ],
   "source": [
    "sns.barplot(y = original_df['CROSS_SELL_SUCCESS'],\n",
    "                x = original_df['NO_OF_NAMES'])\n",
    "plt.xlabel('NO_OF_NAMES')\n",
    "plt.show()"
   ]
  },
  {
   "cell_type": "code",
   "execution_count": 22,
   "metadata": {},
   "outputs": [
    {
     "data": {
      "image/png": "[encoded data removed]",
      "text/plain": [
       "<Figure size 432x288 with 1 Axes>"
      ]
     },
     "metadata": {
      "needs_background": "light"
     },
     "output_type": "display_data"
    }
   ],
   "source": [
    "sns.barplot(y = original_df['REVENUE_PER_MEAL'],\n",
    "                x = original_df['NO_OF_NAMES'])\n",
    "plt.xlabel('NO_OF_NAMES')\n",
    "plt.show()"
   ]
  },
  {
   "cell_type": "code",
   "execution_count": 23,
   "metadata": {},
   "outputs": [
    {
     "data": {
      "image/png": "[encoded data removed]",
      "text/plain": [
       "<Figure size 432x288 with 1 Axes>"
      ]
     },
     "metadata": {
      "needs_background": "light"
     },
     "output_type": "display_data"
    }
   ],
   "source": [
    "sns.barplot(y = original_df['REVENUE_PER_MEAL'],\n",
    "                x = original_df['DISC_STATUS_NO'])\n",
    "plt.xlabel('DISC_STATUS_NO')\n",
    "plt.show()"
   ]
  },
  {
   "cell_type": "code",
   "execution_count": 24,
   "metadata": {},
   "outputs": [
    {
     "data": {
      "image/png": "[encoded data removed]",
      "text/plain": [
       "<Figure size 432x288 with 1 Axes>"
      ]
     },
     "metadata": {
      "needs_background": "light"
     },
     "output_type": "display_data"
    }
   ],
   "source": [
    "sns.barplot(y = original_df['CROSS_SELL_SUCCESS'],\n",
    "                x = original_df['DOMAIN'])\n",
    "plt.xlabel('DOMAIN')\n",
    "plt.show()"
   ]
  },
  {
   "cell_type": "code",
   "execution_count": 25,
   "metadata": {},
   "outputs": [
    {
     "data": {
      "image/png": "[encoded data removed]",
      "text/plain": [
       "<Figure size 432x288 with 1 Axes>"
      ]
     },
     "metadata": {
      "needs_background": "light"
     },
     "output_type": "display_data"
    }
   ],
   "source": [
    "sns.barplot(y = original_df['FOLLOWED_RECOMMENDATIONS_PCT'],\n",
    "                x = original_df['DOMAIN'])\n",
    "plt.xlabel('DOMAIN')\n",
    "plt.show()"
   ]
  },
  {
   "cell_type": "code",
   "execution_count": 26,
   "metadata": {},
   "outputs": [
    {
     "data": {
      "image/png": "[encoded data removed]",
      "text/plain": [
       "<Figure size 432x288 with 1 Axes>"
      ]
     },
     "metadata": {
      "needs_background": "light"
     },
     "output_type": "display_data"
    }
   ],
   "source": [
    "sns.barplot(y = original_df['CROSS_SELL_SUCCESS'],\n",
    "                x = original_df['FOLLOWED_RECOMMENDATIONS_PCT'])\n",
    "plt.xlabel('FOLLOWED_RECOMMENDATIONS_PCT')\n",
    "plt.show()"
   ]
  },
  {
   "cell_type": "code",
   "execution_count": 27,
   "metadata": {},
   "outputs": [],
   "source": [
    "t=original_df.groupby('DOMAIN')\n",
    "p=t.get_group('PROFESSIONAL_EMAIL')\n",
    "stat = pd.get_dummies(p['EMAIL_DOMAIN'])\n",
    "p = p.join([stat])"
   ]
  },
  {
   "cell_type": "code",
   "execution_count": 28,
   "metadata": {},
   "outputs": [],
   "source": [
    "pcompany=p.loc[:,['CROSS_SELL_SUCCESS','amex.com', 'apple.com', 'boeing.com', 'caterpillar.com', 'chevron.com', 'cisco.com', 'cocacola.com', 'disney.com', 'dupont.com', 'exxon.com', 'ge.org', 'goldmansacs.com', 'homedepot.com', 'ibm.com', 'intel.com', 'jnj.com', 'jpmorgan.com', \n",
    "         'mcdonalds.com', 'merck.com', 'microsoft.com', 'mmm.com', \n",
    "         'nike.com', 'pfizer.com', 'pg.com', 'travelers.com', 'unitedhealth.com',\n",
    "         'unitedtech.com', 'verizon.com', 'visa.com', 'walmart.com']]"
   ]
  },
  {
   "cell_type": "code",
   "execution_count": 29,
   "metadata": {},
   "outputs": [
    {
     "name": "stdout",
     "output_type": "stream",
     "text": [
      "CROSS_SELL_SUCCESS    1.000000\n",
      "merck.com             0.083986\n",
      "microsoft.com         0.077112\n",
      "pg.com                0.069711\n",
      "jpmorgan.com          0.061633\n",
      "intel.com             0.055762\n",
      "amex.com              0.052936\n",
      "caterpillar.com       0.028628\n",
      "unitedhealth.com      0.015621\n",
      "goldmansacs.com       0.013468\n",
      "unitedtech.com        0.013468\n",
      "verizon.com           0.008087\n",
      "walmart.com           0.004075\n",
      "pfizer.com           -0.000124\n",
      "cocacola.com         -0.007463\n",
      "mcdonalds.com        -0.007463\n",
      "boeing.com           -0.008175\n",
      "cisco.com            -0.009174\n",
      "apple.com            -0.011311\n",
      "nike.com             -0.011311\n",
      "mmm.com              -0.012455\n",
      "ge.org               -0.015303\n",
      "visa.com             -0.021636\n",
      "travelers.com        -0.023771\n",
      "ibm.com              -0.034255\n",
      "dupont.com           -0.034255\n",
      "disney.com           -0.037944\n",
      "chevron.com          -0.038764\n",
      "jnj.com              -0.062332\n",
      "exxon.com            -0.063164\n",
      "homedepot.com        -0.083928\n",
      "Name: CROSS_SELL_SUCCESS, dtype: float64\n"
     ]
    }
   ],
   "source": [
    "pcompany_corr = pcompany.corr()\n",
    "print(pcompany_corr.loc['CROSS_SELL_SUCCESS'].sort_values(ascending = False))"
   ]
  },
  {
   "cell_type": "code",
   "execution_count": 30,
   "metadata": {},
   "outputs": [
    {
     "data": {
      "image/png": "[encoded data removed]",
      "text/plain": [
       "<Figure size 1080x576 with 1 Axes>"
      ]
     },
     "metadata": {
      "needs_background": "light"
     },
     "output_type": "display_data"
    }
   ],
   "source": [
    "#professional_email_domains\n",
    "fig, ax = plt.subplots(figsize = (15, 8))\n",
    "sns.barplot(y = p['EMAIL_DOMAIN'],\n",
    "                x = p['CROSS_SELL_SUCCESS'])\n",
    "plt.xlabel('CROSS_SELL_SUCCESS')\n",
    "plt.show()"
   ]
  }
 ],
 "metadata": {
  "kernelspec": {
   "display_name": "Python 3",
   "language": "python",
   "name": "python3"
  },
  "language_info": {
   "codemirror_mode": {
    "name": "ipython",
    "version": 3
   },
   "file_extension": ".py",
   "mimetype": "text/x-python",
   "name": "python",
   "nbconvert_exporter": "python",
   "pygments_lexer": "ipython3",
   "version": "3.7.3"
  },
  "toc": {
   "base_numbering": 1,
   "nav_menu": {},
   "number_sections": true,
   "sideBar": true,
   "skip_h1_title": false,
   "title_cell": "Table of Contents",
   "title_sidebar": "Contents",
   "toc_cell": false,
   "toc_position": {},
   "toc_section_display": true,
   "toc_window_display": false
  },
  "varInspector": {
   "cols": {
    "lenName": 16,
    "lenType": 16,
    "lenVar": 40
   },
   "kernels_config": {
    "python": {
     "delete_cmd_postfix": "",
     "delete_cmd_prefix": "del ",
     "library": "var_list.py",
     "varRefreshCmd": "print(var_dic_list())"
    },
    "r": {
     "delete_cmd_postfix": ") ",
     "delete_cmd_prefix": "rm(",
     "library": "var_list.r",
     "varRefreshCmd": "cat(var_dic_list()) "
    }
   },
   "types_to_exclude": [
    "module",
    "function",
    "builtin_function_or_method",
    "instance",
    "_Feature"
   ],
   "window_display": false
  }
 },
 "nbformat": 4,
 "nbformat_minor": 2
}
